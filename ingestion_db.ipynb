{
 "cells": [
  {
   "cell_type": "code",
   "execution_count": 1,
   "id": "81488e5b-b581-46f0-affa-078300d9116d",
   "metadata": {},
   "outputs": [],
   "source": [
    "import pandas as pd\n",
    "import os\n",
    "from sqlalchemy import create_engine\n",
    "import logging\n",
    "import time\n",
    "\n",
    "logging.basicConfig(\n",
    "    filename = \"logs/ingestion_db.log\",\n",
    "    level = logging.DEBUG,\n",
    "    format =\"%(asctime)s -%(levelname)s-%(message)s\",\n",
    "    filemode = \"a\"\n",
    ")"
   ]
  },
  {
   "cell_type": "code",
   "execution_count": 2,
   "id": "1968ccd2-876c-45d7-828a-434aa5f10fa6",
   "metadata": {},
   "outputs": [],
   "source": [
    "engine = create_engine('sqlite:///inventory.db')"
   ]
  },
  {
   "cell_type": "code",
   "execution_count": 3,
   "id": "4a8f7391-2972-4600-b5df-f4b2745b5cad",
   "metadata": {},
   "outputs": [],
   "source": [
    "def ingest_db(df,table_name,engine):\n",
    "    df.to_sql(table_name,con = engine,if_exists = 'replace',index = False)"
   ]
  },
  {
   "cell_type": "code",
   "execution_count": 4,
   "id": "f4efe28e-03db-4dae-9c33-d6aca82b6cf2",
   "metadata": {},
   "outputs": [],
   "source": [
    "def load_raw_data():\n",
    "    start= time.time()\n",
    "    for file in os.listdir('data'):\n",
    "        if '.csv' in file:\n",
    "            df = pd.read_csv('data/'+file)\n",
    "            logging.info(f'Ingesting {file} in db')\n",
    "            ingest_db(df,file[:-4], engine)\n",
    "\n",
    "    end = time.time()\n",
    "    total_time = (end-start)/60\n",
    "    logging.info('Ingestion Complete')\n",
    "    logging.info(f'\\nTotal Time Taken: {total_time} minutes')\n",
    "       \n",
    "    \n"
   ]
  },
  {
   "cell_type": "code",
   "execution_count": null,
   "id": "0f623fc5-3d07-4571-a912-cc4cb67342ab",
   "metadata": {},
   "outputs": [],
   "source": [
    "if __name__ == '__main__':\n",
    "    load_raw_data()"
   ]
  },
  {
   "cell_type": "code",
   "execution_count": null,
   "id": "91eac6d0-5308-456d-93e5-aa03c85abec9",
   "metadata": {},
   "outputs": [],
   "source": []
  }
 ],
 "metadata": {
  "kernelspec": {
   "display_name": "Python 3 (ipykernel)",
   "language": "python",
   "name": "python3"
  },
  "language_info": {
   "codemirror_mode": {
    "name": "ipython",
    "version": 3
   },
   "file_extension": ".py",
   "mimetype": "text/x-python",
   "name": "python",
   "nbconvert_exporter": "python",
   "pygments_lexer": "ipython3",
   "version": "3.12.4"
  }
 },
 "nbformat": 4,
 "nbformat_minor": 5
}
